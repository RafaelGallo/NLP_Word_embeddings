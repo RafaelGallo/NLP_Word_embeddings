{
 "cells": [
  {
   "cell_type": "markdown",
   "metadata": {},
   "source": [
    "# Word Vectors from Scratch"
   ]
  },
  {
   "cell_type": "markdown",
   "metadata": {},
   "source": [
    "## Packages"
   ]
  },
  {
   "cell_type": "code",
   "execution_count": 461,
   "metadata": {},
   "outputs": [],
   "source": [
    "import torch\n",
    "import torch.nn as nn\n",
    "\n",
    "import nltk\n",
    "from nltk.corpus import stopwords\n",
    "from nltk.tokenize import word_tokenize\n",
    "\n",
    "from collections import deque\n",
    "import string\n",
    "import matplotlib.pyplot as plt\n",
    "import random"
   ]
  },
  {
   "cell_type": "code",
   "execution_count": 458,
   "metadata": {},
   "outputs": [
    {
     "name": "stderr",
     "output_type": "stream",
     "text": [
      "[nltk_data] Downloading package punkt to /Users/eno/nltk_data...\n",
      "[nltk_data]   Package punkt is already up-to-date!\n",
      "[nltk_data] Downloading package stopwords to /Users/eno/nltk_data...\n",
      "[nltk_data]   Unzipping corpora/stopwords.zip.\n"
     ]
    },
    {
     "data": {
      "text/plain": [
       "True"
      ]
     },
     "execution_count": 458,
     "metadata": {},
     "output_type": "execute_result"
    }
   ],
   "source": [
    "nltk.download('punkt')\n",
    "nltk.download('stopwords')"
   ]
  },
  {
   "cell_type": "markdown",
   "metadata": {},
   "source": [
    "## Importing our corpus and preprocessing"
   ]
  },
  {
   "cell_type": "code",
   "execution_count": 470,
   "metadata": {},
   "outputs": [],
   "source": [
    "# Example usage\n",
    "file_path = 'combined_articles.txt'\n",
    "with open(file_path, 'r', encoding='utf-8') as file:\n",
    "    text = file.read()"
   ]
  },
  {
   "cell_type": "code",
   "execution_count": 471,
   "metadata": {},
   "outputs": [],
   "source": [
    "def extract_unique_words(text):\n",
    "    # Lowercase and tokenize the text\n",
    "    text = text.lower()\n",
    "    words = word_tokenize(text)\n",
    "\n",
    "    # Remove punctuation\n",
    "    words = [word for word in words if word.isalpha()]\n",
    "\n",
    "    # Count the number of words and unique words\n",
    "    print(\"# of words in the text: \", len(words))\n",
    "\n",
    "    unique_words = sorted(set(words))\n",
    "    print(\"# of unqiue words in the text: \", len(unique_words))\n",
    "\n",
    "    return unique_words"
   ]
  },
  {
   "cell_type": "code",
   "execution_count": 472,
   "metadata": {},
   "outputs": [
    {
     "name": "stdout",
     "output_type": "stream",
     "text": [
      "# of words in the text:  259101\n",
      "# of unqiue words in the text:  20355\n"
     ]
    }
   ],
   "source": [
    "unique_words = extract_unique_words(text)"
   ]
  },
  {
   "cell_type": "code",
   "execution_count": 473,
   "metadata": {},
   "outputs": [],
   "source": [
    "def generate_cbows(text, window_size):\n",
    "    # Lowercase and tokenize the text\n",
    "    text = text.lower()\n",
    "    words = word_tokenize(text)\n",
    "\n",
    "    # Remove punctuation\n",
    "    words = [word for word in words if word.isalpha()]\n",
    "\n",
    "    # Remove stop words\n",
    "    stop_words = set(stopwords.words('english'))\n",
    "    words = [word for word in words if word not in stop_words]\n",
    "\n",
    "    # Create CBOW pairs with a given window size\n",
    "    cbows = []\n",
    "    for i, target_word in enumerate(words):\n",
    "        context_words = words[max(0, i - window_size):i] + words[i + 1:i + window_size + 1]\n",
    "        if len(context_words) == window_size * 2:\n",
    "            cbows.append((context_words, target_word))\n",
    "    return cbows"
   ]
  },
  {
   "cell_type": "code",
   "execution_count": 474,
   "metadata": {},
   "outputs": [
    {
     "name": "stdout",
     "output_type": "stream",
     "text": [
      "Target Word: ['china', 'chinese', '中国', 'zhōngguó', 'officially', 'people'], Context Word: pinyin\n",
      "Target Word: ['chinese', '中国', 'pinyin', 'officially', 'people', 'republic'], Context Word: zhōngguó\n",
      "Target Word: ['中国', 'pinyin', 'zhōngguó', 'people', 'republic', 'china'], Context Word: officially\n"
     ]
    }
   ],
   "source": [
    "# Create skip-grams\n",
    "cbows = generate_cbows(text, window_size=3)\n",
    "\n",
    "# Display the results\n",
    "for context_words, target_word in cbows[:3]:\n",
    "    print(f'Target Word: {context_words}, Context Word: {target_word}')"
   ]
  },
  {
   "cell_type": "code",
   "execution_count": 475,
   "metadata": {},
   "outputs": [
    {
     "data": {
      "text/plain": [
       "154594"
      ]
     },
     "execution_count": 475,
     "metadata": {},
     "output_type": "execute_result"
    }
   ],
   "source": [
    "len(cbows)"
   ]
  },
  {
   "cell_type": "code",
   "execution_count": 476,
   "metadata": {},
   "outputs": [],
   "source": [
    "def one_hot_encoding(word, unique_words):\n",
    "    encoding = [1 if word == w else 0 for w in unique_words]\n",
    "    return torch.tensor(encoding, dtype=torch.float32)"
   ]
  },
  {
   "cell_type": "code",
   "execution_count": null,
   "metadata": {},
   "outputs": [],
   "source": [
    "# Create one-hot encodings for each word\n",
    "one_hot_encodings = {word: one_hot_encoding(word, unique_words) for word in unique_words}\n",
    "one_hot_encodings['king']"
   ]
  },
  {
   "cell_type": "code",
   "execution_count": 478,
   "metadata": {},
   "outputs": [],
   "source": [
    "# Convert CBOW pairs to vector pairs\n",
    "cbow_vector_pairs = [([one_hot_encodings[word] for word in context_words], one_hot_encodings[target_word]) for context_words, target_word in cbows]"
   ]
  },
  {
   "cell_type": "code",
   "execution_count": 479,
   "metadata": {},
   "outputs": [
    {
     "data": {
      "text/plain": [
       "[tensor([0., 0., 0.,  ..., 0., 0., 0.]),\n",
       " tensor([0., 0., 0.,  ..., 0., 0., 0.]),\n",
       " tensor([0., 0., 0.,  ..., 0., 0., 0.]),\n",
       " tensor([0., 0., 0.,  ..., 0., 0., 0.]),\n",
       " tensor([0., 0., 0.,  ..., 0., 0., 0.]),\n",
       " tensor([0., 0., 0.,  ..., 0., 0., 0.])]"
      ]
     },
     "execution_count": 479,
     "metadata": {},
     "output_type": "execute_result"
    }
   ],
   "source": [
    "cbow_vector_pairs[0][0] # contains the 6 context word one-hot encoded vectors"
   ]
  },
  {
   "cell_type": "code",
   "execution_count": 480,
   "metadata": {},
   "outputs": [
    {
     "data": {
      "text/plain": [
       "tensor([0., 0., 0.,  ..., 0., 0., 0.])"
      ]
     },
     "execution_count": 480,
     "metadata": {},
     "output_type": "execute_result"
    }
   ],
   "source": [
    "cbow_vector_pairs[0][1] # contains the center word as one-hot encoded vector"
   ]
  },
  {
   "cell_type": "code",
   "execution_count": 481,
   "metadata": {},
   "outputs": [],
   "source": [
    "# Sum the context vectors to get a single context vector\n",
    "cbow_vector_pairs = [(torch.sum(torch.stack(context_vectors), dim=0), target_vector) for context_vectors, target_vector in cbow_vector_pairs]"
   ]
  },
  {
   "cell_type": "code",
   "execution_count": 482,
   "metadata": {},
   "outputs": [
    {
     "data": {
      "text/plain": [
       "(tensor([0., 0., 0.,  ..., 0., 0., 0.]),\n",
       " tensor([0., 0., 0.,  ..., 0., 0., 0.]))"
      ]
     },
     "execution_count": 482,
     "metadata": {},
     "output_type": "execute_result"
    }
   ],
   "source": [
    "cbow_vector_pairs[0]"
   ]
  },
  {
   "cell_type": "code",
   "execution_count": 483,
   "metadata": {},
   "outputs": [],
   "source": [
    "# Shuffle pairs before training\n",
    "cbow_vector_pairs = random.sample(cbow_vector_pairs, len(cbow_vector_pairs))"
   ]
  },
  {
   "cell_type": "markdown",
   "metadata": {},
   "source": [
    "## Naive Word2Vec Model"
   ]
  },
  {
   "cell_type": "code",
   "execution_count": 484,
   "metadata": {},
   "outputs": [],
   "source": [
    "class NaiveWord2Vec(nn.Module):\n",
    "\n",
    "    def __init__(self, VOCAB_SIZE, VECTOR_DIM, random_seed) -> None:\n",
    "        super().__init__()\n",
    "\n",
    "        torch.manual_seed(random_seed)\n",
    "        self.vocab_size = VOCAB_SIZE\n",
    "        self.vector_dim = VECTOR_DIM\n",
    "        self.W1 = nn.Parameter(data=torch.randn(self.vocab_size, self.vector_dim), requires_grad=True) # Word Vectors\n",
    "        self.W2 = nn.Parameter(data=torch.randn(self.vector_dim, self.vocab_size), requires_grad=True)\n",
    "\n",
    "    def forward(self, X) -> torch.tensor:\n",
    "        X = X @ self.W1\n",
    "        X = X @ self.W2\n",
    "\n",
    "        return X"
   ]
  },
  {
   "cell_type": "code",
   "execution_count": 491,
   "metadata": {},
   "outputs": [],
   "source": [
    "VOCAB_SIZE = len(unique_words)\n",
    "VECTOR_DIM = 5\n",
    "random_seed = 0"
   ]
  },
  {
   "cell_type": "markdown",
   "metadata": {},
   "source": [
    "## Training the model"
   ]
  },
  {
   "cell_type": "code",
   "execution_count": 496,
   "metadata": {},
   "outputs": [],
   "source": [
    "model = NaiveWord2Vec(VOCAB_SIZE, VECTOR_DIM, random_seed)"
   ]
  },
  {
   "cell_type": "code",
   "execution_count": 497,
   "metadata": {},
   "outputs": [],
   "source": [
    "train_cbow_vector_pairs = cbow_vector_pairs[:int(len(cbow_vector_pairs)*0.9)]\n",
    "val_cbow_vector_pairs = cbow_vector_pairs[int(len(cbow_vector_pairs)*0.9):]"
   ]
  },
  {
   "cell_type": "code",
   "execution_count": 498,
   "metadata": {},
   "outputs": [],
   "source": [
    "def train_model(model, train_set, val_set, epochs, learning_rate, verbose=False):\n",
    "\n",
    "    # Create the loss function\n",
    "    loss_fn = nn.CrossEntropyLoss()\n",
    "    # Create the optimizer object\n",
    "    optimizer = torch.optim.Adam(params=model.parameters(), lr=learning_rate)\n",
    "    # Log the loss values\n",
    "    train_set_loss_log = []\n",
    "    validation_set_loss_log = []\n",
    "\n",
    "    for epoch in range(epochs):\n",
    "        if verbose: print(\"Epoch: \", epoch)\n",
    "        # Training mode on\n",
    "        model.train()\n",
    "        total_train_loss = 0.0\n",
    "        num_train_batches = 0\n",
    "\n",
    "        for input_vector, target_vector in train_set:\n",
    "\n",
    "            y_train_logits = model(input_vector)\n",
    "            train_loss = loss_fn(y_train_logits, target_vector)\n",
    "            \n",
    "            optimizer.zero_grad()\n",
    "            train_loss.backward()\n",
    "            optimizer.step()\n",
    "\n",
    "            total_train_loss += train_loss.item()\n",
    "            num_train_batches += 1            \n",
    "\n",
    "        # Calculate average training loss for the epoch\n",
    "        average_train_loss = total_train_loss / num_train_batches\n",
    "        train_set_loss_log.append(average_train_loss)\n",
    "\n",
    "        # Eval mode on\n",
    "        model.eval()            \n",
    "        total_validation_loss = 0.0\n",
    "        num_validation_batches = 0\n",
    "\n",
    "        with torch.inference_mode():\n",
    "            for input_vector, target_vector in val_set:\n",
    "                # Evaluate the validation loss\n",
    "                y_val_logits = model(input_vector)\n",
    "                validation_loss = loss_fn(y_val_logits, target_vector)\n",
    "\n",
    "                total_validation_loss += validation_loss.item()\n",
    "                num_validation_batches += 1\n",
    "        \n",
    "        # Calculate average validation loss for the epoch\n",
    "        average_validation_loss = total_validation_loss / num_validation_batches\n",
    "        validation_set_loss_log.append(average_validation_loss) \n",
    "\n",
    "    return model, train_set_loss_log, validation_set_loss_log"
   ]
  },
  {
   "cell_type": "code",
   "execution_count": 499,
   "metadata": {},
   "outputs": [
    {
     "name": "stdout",
     "output_type": "stream",
     "text": [
      "Epoch:  0\n",
      "Epoch:  1\n"
     ]
    }
   ],
   "source": [
    "model, train_set_loss_log, validation_set_loss_log = train_model(model, train_cbow_vector_pairs, val_cbow_vector_pairs, epochs=2, learning_rate=0.005, verbose=True)"
   ]
  },
  {
   "cell_type": "code",
   "execution_count": 500,
   "metadata": {},
   "outputs": [
    {
     "data": {
      "image/png": "[encoded data removed]",
      "text/plain": [
       "<Figure size 640x480 with 1 Axes>"
      ]
     },
     "metadata": {},
     "output_type": "display_data"
    }
   ],
   "source": [
    "plt.plot(train_set_loss_log, color='red', label='train_loss')\n",
    "plt.plot(validation_set_loss_log, color='blue', label='validation_loss')\n",
    "\n",
    "plt.title(\"Loss During Training\")\n",
    "plt.xlabel(\"Epoch\")\n",
    "plt.ylabel(\"Cross Entropy\")\n",
    "plt.legend()\n",
    "plt.show()"
   ]
  },
  {
   "cell_type": "code",
   "execution_count": 501,
   "metadata": {},
   "outputs": [],
   "source": [
    "# Word Vectors\n",
    "params = list(model.parameters())\n",
    "word_vectors = params[0].detach()"
   ]
  },
  {
   "cell_type": "code",
   "execution_count": 502,
   "metadata": {},
   "outputs": [],
   "source": [
    "# Create a dictionary with the same order mapping\n",
    "word_dict = {word: vector for word, vector in zip(unique_words, word_vectors)}"
   ]
  },
  {
   "cell_type": "markdown",
   "metadata": {},
   "source": [
    "## Evaluating the Word Vectors"
   ]
  },
  {
   "cell_type": "code",
   "execution_count": 523,
   "metadata": {},
   "outputs": [],
   "source": [
    "def cosine_similarity(v1, v2):\n",
    "    return (v1 @ v2) / (torch.norm(v1) * torch.norm(v2))\n",
    "\n",
    "def most_similar(word, word_dict, top_k=5):\n",
    "    if word not in word_dict:\n",
    "        raise ValueError(f\"{word} not found in the word dictionary.\")\n",
    "\n",
    "    query_vector = word_dict[word]\n",
    "\n",
    "    # Calculate cosine similarity with all other words in the dictionary\n",
    "    similarities = {}\n",
    "    for other_word, other_vector in word_dict.items():\n",
    "        if other_word != word:\n",
    "            similarity = cosine_similarity(query_vector, other_vector)\n",
    "            similarities[other_word] = similarity\n",
    "\n",
    "    # Sort the words by similarity in descending order\n",
    "    sorted_similarities = sorted(similarities.items(), key=lambda x: x[1], reverse=True)\n",
    "\n",
    "    # Get the top-k most similar words\n",
    "    top_similar_words = sorted_similarities[:top_k]\n",
    "\n",
    "    return top_similar_words"
   ]
  },
  {
   "cell_type": "code",
   "execution_count": 544,
   "metadata": {},
   "outputs": [
    {
     "data": {
      "text/plain": [
       "tensor([-0.8363, -0.4084, -0.0864,  0.0295,  1.2002])"
      ]
     },
     "execution_count": 544,
     "metadata": {},
     "output_type": "execute_result"
    }
   ],
   "source": [
    "word_dict['president']"
   ]
  },
  {
   "cell_type": "code",
   "execution_count": 532,
   "metadata": {},
   "outputs": [
    {
     "data": {
      "text/plain": [
       "[('baháʼí', tensor(0.9973)),\n",
       " ('geometrical', tensor(0.9928)),\n",
       " ('guerrillas', tensor(0.9926)),\n",
       " ('anointing', tensor(0.9870)),\n",
       " ('led', tensor(0.9868))]"
      ]
     },
     "execution_count": 532,
     "metadata": {},
     "output_type": "execute_result"
    }
   ],
   "source": [
    "most_similar('president', word_dict)"
   ]
  },
  {
   "cell_type": "code",
   "execution_count": 542,
   "metadata": {},
   "outputs": [
    {
     "data": {
      "text/plain": [
       "tensor(0.9868)"
      ]
     },
     "execution_count": 542,
     "metadata": {},
     "output_type": "execute_result"
    }
   ],
   "source": [
    "cosine_similarity(word_dict['president'], word_dict['led'])"
   ]
  },
  {
   "cell_type": "code",
   "execution_count": 524,
   "metadata": {},
   "outputs": [
    {
     "data": {
      "text/plain": [
       "tensor(0.7967)"
      ]
     },
     "execution_count": 524,
     "metadata": {},
     "output_type": "execute_result"
    }
   ],
   "source": [
    "cosine_similarity(word_dict['king'], word_dict['queen'])"
   ]
  },
  {
   "cell_type": "code",
   "execution_count": 527,
   "metadata": {},
   "outputs": [
    {
     "data": {
      "text/plain": [
       "tensor(-0.4596)"
      ]
     },
     "execution_count": 527,
     "metadata": {},
     "output_type": "execute_result"
    }
   ],
   "source": [
    "cosine_similarity(word_dict['king'], word_dict['car'])"
   ]
  }
 ],
 "metadata": {
  "kernelspec": {
   "display_name": "deeplearning",
   "language": "python",
   "name": "python3"
  },
  "language_info": {
   "codemirror_mode": {
    "name": "ipython",
    "version": 3
   },
   "file_extension": ".py",
   "mimetype": "text/x-python",
   "name": "python",
   "nbconvert_exporter": "python",
   "pygments_lexer": "ipython3",
   "version": "3.11.4"
  }
 },
 "nbformat": 4,
 "nbformat_minor": 2
}
