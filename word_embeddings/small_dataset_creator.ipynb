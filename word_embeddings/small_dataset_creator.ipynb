{
 "cells": [
  {
   "cell_type": "markdown",
   "metadata": {},
   "source": [
    "## Packages"
   ]
  },
  {
   "cell_type": "code",
   "execution_count": 4,
   "metadata": {},
   "outputs": [],
   "source": [
    "import random"
   ]
  },
  {
   "cell_type": "markdown",
   "metadata": {},
   "source": [
    "## Creating the corpus"
   ]
  },
  {
   "cell_type": "code",
   "execution_count": 5,
   "metadata": {},
   "outputs": [],
   "source": [
    "dog_cat_words = ['dog', 'cat', 'pet', 'house', 'animal', 'sleep', 'play']\n",
    "family_words = ['girl', 'boy', 'father', 'mother', 'family', 'house', 'marriage']\n",
    "king_queen_words = ['crown', 'queen', 'king', 'empire', 'country', 'rule', 'castle']"
   ]
  },
  {
   "cell_type": "code",
   "execution_count": 6,
   "metadata": {},
   "outputs": [],
   "source": [
    "dog_cat_text = ''\n",
    "family_text = ''\n",
    "king_queen_text = ''\n",
    "\n",
    "for _ in range(10_000):\n",
    "    random.shuffle(dog_cat_words)\n",
    "    dog_cat_text = dog_cat_text + ' ' + ' '.join(dog_cat_words)\n",
    "    random.shuffle(family_words)\n",
    "    family_text = family_text + ' ' + ' '.join(family_words)\n",
    "    random.shuffle(king_queen_words)\n",
    "    king_queen_text = king_queen_text + ' ' + ' '.join(king_queen_words)        "
   ]
  },
  {
   "cell_type": "code",
   "execution_count": 7,
   "metadata": {},
   "outputs": [],
   "source": [
    "small_corpus = dog_cat_text + ' ' + family_text + ' ' + king_queen_text"
   ]
  },
  {
   "cell_type": "code",
   "execution_count": 8,
   "metadata": {},
   "outputs": [],
   "source": [
    "# Append the shuffled words to a file\n",
    "file_name = \"small_corpus.txt\"\n",
    "with open(file_name, 'w') as file:\n",
    "    file.write(small_corpus)"
   ]
  },
  {
   "cell_type": "code",
   "execution_count": null,
   "metadata": {},
   "outputs": [],
   "source": []
  }
 ],
 "metadata": {
  "kernelspec": {
   "display_name": "deeplearning",
   "language": "python",
   "name": "python3"
  },
  "language_info": {
   "codemirror_mode": {
    "name": "ipython",
    "version": 3
   },
   "file_extension": ".py",
   "mimetype": "text/x-python",
   "name": "python",
   "nbconvert_exporter": "python",
   "pygments_lexer": "ipython3",
   "version": "3.11.4"
  }
 },
 "nbformat": 4,
 "nbformat_minor": 2
}
